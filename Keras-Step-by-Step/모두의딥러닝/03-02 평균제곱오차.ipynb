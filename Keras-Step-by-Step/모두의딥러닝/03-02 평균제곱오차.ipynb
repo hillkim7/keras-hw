{
 "cells": [
  {
   "attachments": {},
   "cell_type": "markdown",
   "metadata": {},
   "source": [
    "# 평균 제곱 오차\n",
    "여러 입력을 처리하기 위해서는 최소 제곱법은 안됨.  \n",
    "여러개의 입력값을 계산할 때 임의의 선을 그리고 난 후, 이 선이 얼마나 잘 그려쪘는지를 평가하며 조금씩 수정해 간다.  \n",
    "이때 주어진 선의 오차 평가 알고리즘이 필요하며 *평균 제곱 오차*(mean square error, MSE)가 많이 사용된다."
   ]
  },
  {
   "cell_type": "code",
   "execution_count": 1,
   "metadata": {},
   "outputs": [],
   "source": [
    "import numpy as np"
   ]
  },
  {
   "attachments": {},
   "cell_type": "markdown",
   "metadata": {},
   "source": [
    "## 평균 제곱 오차 코딩으로 확인"
   ]
  },
  {
   "cell_type": "code",
   "execution_count": 2,
   "metadata": {},
   "outputs": [
    {
     "name": "stdout",
     "output_type": "stream",
     "text": [
      "공부할 시간=2, 실제 점수=81, 예측 점수=82\n",
      "공부할 시간=4, 실제 점수=93, 예측 점수=88\n",
      "공부할 시간=6, 실제 점수=91, 예측 점수=94\n",
      "공부할 시간=8, 실제 점수=97, 예측 점수=100\n",
      "mse 최종값: 11.0\n"
     ]
    }
   ],
   "source": [
    "fake_a_b = [3, 76] # [a, b]\n",
    "data = [[2, 81], [4, 93], [6, 91], [8, 97]]\n",
    "x = [i[0] for i in data]\n",
    "y = [i[1] for i in data]\n",
    "\n",
    "# y = ax +b에 a와 b 값을 대입하여 결과를 출력하는 함수\n",
    "def predict(x):\n",
    "    return fake_a_b[0] * x + fake_a_b[1]\n",
    "\n",
    "def mse(y, y_hat):\n",
    "    return ((y-y_hat) ** 2).mean()\n",
    "\n",
    "# MSE 함수를 각y 값에 대입하여 최종 값을 구하는 함수\n",
    "def mse_val(y, predict_result):\n",
    "    return mse(np.array(y), np.array(predict_result))\n",
    "\n",
    "# 예측 값이 들어갈 빈 리스트\n",
    "predict_result = []\n",
    "for i in range(len(x)):\n",
    "    # predict_result 리스트를 완성\n",
    "    predict_result.append(predict(x[i]))\n",
    "    print(f'공부할 시간={x[i]}, 실제 점수={y[i]}, 예측 점수={predict(x[i])}')\n",
    "print(\"mse 최종값: \" + str(mse_val(predict_result, y)))"
   ]
  },
  {
   "attachments": {},
   "cell_type": "markdown",
   "metadata": {},
   "source": [
    "이를 통해 처음 가정한 a = 3, b = 76은 오차가 약 11.0이라는 것을 알 수 있음"
   ]
  }
 ],
 "metadata": {
  "kernelspec": {
   "display_name": "tfgpu2",
   "language": "python",
   "name": "python3"
  },
  "language_info": {
   "codemirror_mode": {
    "name": "ipython",
    "version": 3
   },
   "file_extension": ".py",
   "mimetype": "text/x-python",
   "name": "python",
   "nbconvert_exporter": "python",
   "pygments_lexer": "ipython3",
   "version": "3.8.13"
  },
  "orig_nbformat": 4
 },
 "nbformat": 4,
 "nbformat_minor": 2
}
