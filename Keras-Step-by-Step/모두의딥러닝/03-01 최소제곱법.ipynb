{
 "cells": [
  {
   "attachments": {},
   "cell_type": "markdown",
   "metadata": {},
   "source": [
    "# 최소제곱법\n",
    "X에 대응하는 Y값을 찾기 위해서는 `y = ax + b`식을 구하며 `a` 기울기와 `b` Y 절편을 구할때 사용된다.\n",
    "  \n",
    "`a = ( x - x 평균)(y - y평균)의 합 / (x - x 평균)**2의 합`"
   ]
  },
  {
   "cell_type": "code",
   "execution_count": 1,
   "metadata": {},
   "outputs": [],
   "source": [
    "import numpy as np\n"
   ]
  },
  {
   "cell_type": "code",
   "execution_count": 2,
   "metadata": {},
   "outputs": [],
   "source": [
    "x = [2, 4, 6, 8]        # 공부시간\n",
    "y = [81, 93, 91, 97]    # 점수"
   ]
  },
  {
   "attachments": {},
   "cell_type": "markdown",
   "metadata": {},
   "source": [
    "최소 제곱근 공식으로 기울기 a와 y절편 b의 값을 구함"
   ]
  },
  {
   "cell_type": "code",
   "execution_count": 4,
   "metadata": {},
   "outputs": [],
   "source": [
    "mx = np.mean(x)\n",
    "my = np.mean(y)"
   ]
  },
  {
   "attachments": {},
   "cell_type": "markdown",
   "metadata": {},
   "source": [
    "분모값 계산"
   ]
  },
  {
   "cell_type": "code",
   "execution_count": 6,
   "metadata": {},
   "outputs": [
    {
     "data": {
      "text/plain": [
       "20.0"
      ]
     },
     "execution_count": 6,
     "metadata": {},
     "output_type": "execute_result"
    }
   ],
   "source": [
    "divisor = sum([(i - mx)**2 for i in x])\n",
    "divisor"
   ]
  },
  {
   "cell_type": "code",
   "execution_count": 9,
   "metadata": {},
   "outputs": [
    {
     "name": "stdout",
     "output_type": "stream",
     "text": [
      "분모: 20.0\n",
      "분자: 46.0\n",
      "기울기 a: 2.3\n",
      "y 절편 b: 79.0\n"
     ]
    }
   ],
   "source": [
    "# 분자에 해당하는 값 구함\n",
    "def top(x, mx, y, my):\n",
    "    d = 0\n",
    "    for i in range(len(x)):\n",
    "        d += (x[i] - mx) * (y[i] - my)\n",
    "    return d\n",
    "\n",
    "dividend = top(x, mx, y, my)\n",
    "print(\"분모:\", divisor)\n",
    "print(\"분자:\", dividend)\n",
    "\n",
    "# 기울기와 y절편 구하기\n",
    "a = dividend / divisor\n",
    "b = my - (mx * a)\n",
    "print(\"기울기 a:\", a)\n",
    "print(\"y 절편 b:\", b)"
   ]
  }
 ],
 "metadata": {
  "kernelspec": {
   "display_name": "tfgpu2",
   "language": "python",
   "name": "python3"
  },
  "language_info": {
   "codemirror_mode": {
    "name": "ipython",
    "version": 3
   },
   "file_extension": ".py",
   "mimetype": "text/x-python",
   "name": "python",
   "nbconvert_exporter": "python",
   "pygments_lexer": "ipython3",
   "version": "3.8.13"
  },
  "orig_nbformat": 4
 },
 "nbformat": 4,
 "nbformat_minor": 2
}
